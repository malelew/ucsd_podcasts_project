{
 "cells": [
  {
   "cell_type": "code",
   "execution_count": 101,
   "metadata": {},
   "outputs": [],
   "source": [
    "import requests\n",
    "import time\n",
    "import json\n",
    "import pandas as pd\n",
    "from bs4 import BeautifulSoup"
   ]
  },
  {
   "cell_type": "markdown",
   "metadata": {},
   "source": [
    "Scrape the previous podcasts archive"
   ]
  },
  {
   "cell_type": "code",
   "execution_count": 2,
   "metadata": {},
   "outputs": [],
   "source": [
    "url_past_podcasts = \"https://podcast.ucsd.edu/CourseList.aspx?show=past\""
   ]
  },
  {
   "cell_type": "code",
   "execution_count": 3,
   "metadata": {},
   "outputs": [],
   "source": [
    "req_obj = requests.get(url_past_podcasts)"
   ]
  },
  {
   "cell_type": "code",
   "execution_count": 4,
   "metadata": {},
   "outputs": [],
   "source": [
    "text_podcast_archive = BeautifulSoup(req_obj.text)"
   ]
  },
  {
   "cell_type": "code",
   "execution_count": 21,
   "metadata": {},
   "outputs": [],
   "source": [
    "a_eles = text_podcast_archive.find_all(\"a\", class_=\"PodcastLink\")"
   ]
  },
  {
   "cell_type": "code",
   "execution_count": 22,
   "metadata": {},
   "outputs": [
    {
     "data": {
      "text/plain": [
       "2149"
      ]
     },
     "execution_count": 22,
     "metadata": {},
     "output_type": "execute_result"
    }
   ],
   "source": [
    "len(a_eles)"
   ]
  },
  {
   "cell_type": "code",
   "execution_count": 55,
   "metadata": {},
   "outputs": [],
   "source": [
    "podcast_archive = []"
   ]
  },
  {
   "cell_type": "code",
   "execution_count": 58,
   "metadata": {},
   "outputs": [],
   "source": [
    "for quarter in text_podcast_archive.find_all(\"div\", class_=\"quarter\"):\n",
    "  curr_quarter = quarter.find(\"h2\").text.strip()\n",
    "  for course in quarter.find_all(\"a\", class_=\"PodcastLink\"):\n",
    "    course_code = course.text.split(\"-\")[0].rstrip()\n",
    "    if len(course_code.split()) > 2:\n",
    "      split_codes = course_code.split()\n",
    "      [podcast_archive.append([(test_str[i] + \" \" + test_str[i-1]), curr_quarter]) for i in range(0, len(test_str), 2)]\n",
    "    else:\n",
    "      podcast_archive.append([course_code, curr_quarter])"
   ]
  },
  {
   "cell_type": "code",
   "execution_count": 59,
   "metadata": {},
   "outputs": [
    {
     "data": {
      "text/plain": [
       "2269"
      ]
     },
     "execution_count": 59,
     "metadata": {},
     "output_type": "execute_result"
    }
   ],
   "source": [
    "len(podcast_archive)"
   ]
  },
  {
   "cell_type": "code",
   "execution_count": null,
   "metadata": {},
   "outputs": [],
   "source": [
    "podcast_archive"
   ]
  },
  {
   "cell_type": "code",
   "execution_count": 76,
   "metadata": {},
   "outputs": [
    {
     "data": {
      "text/plain": [
       "'19-20'"
      ]
     },
     "execution_count": 76,
     "metadata": {},
     "output_type": "execute_result"
    }
   ],
   "source": [
    "podcast_archive[0][1][-2:] + \"-\" + str(int(podcast_archive[0][1][-2:])+1)"
   ]
  },
  {
   "cell_type": "code",
   "execution_count": 77,
   "metadata": {},
   "outputs": [],
   "source": [
    "# if winter or spring strip last two chars and conver 0X-(last two chars) string\n",
    "# else fall so convert to (last two chars)-0X\n",
    "for podcast in podcast_archive:\n",
    "  if \"Fall\" in podcast[1]:\n",
    "    academic_year = podcast[1][-2:] + \"-\" + str(int(podcast_archive[0][1][-2:])+1)\n",
    "  else:\n",
    "    academic_year = str(int(podcast_archive[0][1][-2:])+1) + \"-\" + podcast[1][-2:]\n",
    "  podcast.append(academic_year)"
   ]
  },
  {
   "cell_type": "code",
   "execution_count": 78,
   "metadata": {},
   "outputs": [
    {
     "data": {
      "text/plain": [
       "['BGGN 202', 'Fall 2019', '19-20']"
      ]
     },
     "execution_count": 78,
     "metadata": {},
     "output_type": "execute_result"
    }
   ],
   "source": [
    "podcast_archive[0]"
   ]
  },
  {
   "cell_type": "code",
   "execution_count": 79,
   "metadata": {},
   "outputs": [],
   "source": [
    "#with open('podcast_archive.json', 'w', encoding='utf-8') as f:\n",
    "# json.dump(podcast_archive, f, ensure_ascii=False, indent=4)"
   ]
  },
  {
   "cell_type": "markdown",
   "metadata": {},
   "source": [
    "## Scrape the course catalog"
   ]
  },
  {
   "cell_type": "code",
   "execution_count": 41,
   "metadata": {},
   "outputs": [],
   "source": [
    "catalog_front_url = \"http://registrar.ucsd.edu/catalog/{}-{}/front/courses.html\"\n",
    "catalog_base_url  = \"http://registrar.ucsd.edu/catalog/{}-{}/\""
   ]
  },
  {
   "cell_type": "code",
   "execution_count": 42,
   "metadata": {},
   "outputs": [
    {
     "name": "stdout",
     "output_type": "stream",
     "text": [
      "http://registrar.ucsd.edu/catalog/18-19/front/courses.html\n"
     ]
    }
   ],
   "source": [
    "print(catalog_front_url.format(18, 19))"
   ]
  },
  {
   "cell_type": "code",
   "execution_count": 97,
   "metadata": {},
   "outputs": [],
   "source": [
    "catalog_records = []"
   ]
  },
  {
   "cell_type": "code",
   "execution_count": 98,
   "metadata": {},
   "outputs": [],
   "source": [
    "for year in range(10,21):\n",
    "  academic_year = \"{}-{}\".format(f\"{year-1:02d}\", year)\n",
    "  front_req_obj    = requests.get(\"http://registrar.ucsd.edu/catalog/{}-{}/front/courses.html\".format(f\"{year-1:02d}\", year))\n",
    "  front_page       = BeautifulSoup(req_obj.text)\n",
    "  for course_page in cat_page.find_all(\"a\", text=\"courses\"):\n",
    "    href           = course_page[\"href\"]\n",
    "    code = href.split(\"/\")[-1].split(\".\")[0]\n",
    "    dept_page_url = \"http://registrar.ucsd.edu/catalog/{}-{}/\".format(f\"{year-1:02d}\", year) + href.replace(\"../\",\"\")\n",
    "    course_req_obj = requests.get(dept_page_url)\n",
    "    course_page    = BeautifulSoup(course_req_obj.text)\n",
    "    department_code = course_page.find_all(\"h1\")[-1].text\n",
    "    for course in course_page.find_all(\"p\", class_=\"course-name\"):\n",
    "      course_code    = course.text.split(\".\")[0]\n",
    "      course         = [course_code, code, department_code, academic_year, dept_page_url]\n",
    "      catalog_records.append(course)\n",
    "    time.sleep(0.5)"
   ]
  },
  {
   "cell_type": "code",
   "execution_count": 102,
   "metadata": {},
   "outputs": [
    {
     "data": {
      "text/plain": [
       "58328"
      ]
     },
     "execution_count": 102,
     "metadata": {},
     "output_type": "execute_result"
    }
   ],
   "source": [
    "len(catalog_records)"
   ]
  },
  {
   "cell_type": "code",
   "execution_count": 104,
   "metadata": {},
   "outputs": [],
   "source": [
    "#with open('catalog_records.json', 'w', encoding='utf-8') as f:\n",
    "#  json.dump(catalog_records, f, ensure_ascii=False, indent=4)"
   ]
  },
  {
   "cell_type": "code",
   "execution_count": 25,
   "metadata": {},
   "outputs": [],
   "source": [
    "front_req_obj = requests.get(\"http://regyearstrar.ucsd.edu/catalog/{}-{}/front/courses.html\".format(18, 19))"
   ]
  },
  {
   "cell_type": "code",
   "execution_count": 27,
   "metadata": {},
   "outputs": [],
   "source": [
    "cat_page = BeautifulSoup(req_obj.text)"
   ]
  },
  {
   "cell_type": "code",
   "execution_count": 35,
   "metadata": {},
   "outputs": [],
   "source": [
    "href = cat_page.find(\"a\", text=\"courses\")[\"href\"]"
   ]
  },
  {
   "cell_type": "code",
   "execution_count": 59,
   "metadata": {},
   "outputs": [],
   "source": [
    "course_req_obj = requests.get(\"http://registrar.ucsd.edu/catalog/{}-{}/\".format(18, 19) + href.replace(\"../\",\"\"))"
   ]
  },
  {
   "cell_type": "code",
   "execution_count": 60,
   "metadata": {},
   "outputs": [],
   "source": [
    "course_page = BeautifulSoup(course_req_obj.text)"
   ]
  },
  {
   "cell_type": "code",
   "execution_count": 63,
   "metadata": {},
   "outputs": [
    {
     "data": {
      "text/plain": [
       "'AIP 97'"
      ]
     },
     "execution_count": 63,
     "metadata": {},
     "output_type": "execute_result"
    }
   ],
   "source": [
    "course_page.find_all(\"p\", class_=\"course-name\")[0].text.split(\".\")[0]"
   ]
  },
  {
   "cell_type": "code",
   "execution_count": 96,
   "metadata": {},
   "outputs": [
    {
     "data": {
      "text/plain": [
       "['197',\n",
       " 'AIP',\n",
       " 'Academic Internship Program ',\n",
       " '09-10',\n",
       " 'http://registrar.ucsd.edu/catalog/09-10/courses/AIP.html']"
      ]
     },
     "execution_count": 96,
     "metadata": {},
     "output_type": "execute_result"
    }
   ],
   "source": [
    "catalog_records[0]"
   ]
  },
  {
   "cell_type": "code",
   "execution_count": 108,
   "metadata": {},
   "outputs": [],
   "source": [
    "with open('catalog_records.json') as f:\n",
    "  catalog_records = json.load(f)"
   ]
  },
  {
   "cell_type": "code",
   "execution_count": 109,
   "metadata": {},
   "outputs": [],
   "source": [
    "for course in catalog_records:\n",
    "  if course[0][:2].isnumeric():\n",
    "    course[0] = course[1] + \" \" + course[0]"
   ]
  },
  {
   "cell_type": "markdown",
   "metadata": {},
   "source": [
    "## Merge Datasets"
   ]
  },
  {
   "cell_type": "code",
   "execution_count": 120,
   "metadata": {},
   "outputs": [],
   "source": [
    "catalog_df=pd.DataFrame(catalog_records, columns=[\"course_code\", \"code_prefix\", \"department_desc\", \"academic_year\", \"link\"])"
   ]
  },
  {
   "cell_type": "code",
   "execution_count": 121,
   "metadata": {},
   "outputs": [],
   "source": [
    "podcast_archive_df=pd.DataFrame(podcast_archive, columns=[\"course_code\", \"term\", \"academic_year\"])"
   ]
  },
  {
   "cell_type": "code",
   "execution_count": 122,
   "metadata": {},
   "outputs": [],
   "source": [
    "podcast_archive_df[\"podcast\"]=True"
   ]
  },
  {
   "cell_type": "code",
   "execution_count": null,
   "metadata": {},
   "outputs": [],
   "source": []
  },
  {
   "cell_type": "code",
   "execution_count": 126,
   "metadata": {},
   "outputs": [],
   "source": [
    "merged_df = catalog_df.merge(podcast_archive_df, on=[\"course_code\", \"academic_year\"], how=\"left\")"
   ]
  },
  {
   "cell_type": "code",
   "execution_count": 128,
   "metadata": {},
   "outputs": [],
   "source": [
    "merged_df[\"podcast\"] = merged_df[\"podcast\"].fillna(False)"
   ]
  },
  {
   "cell_type": "code",
   "execution_count": 129,
   "metadata": {},
   "outputs": [
    {
     "data": {
      "text/html": [
       "<div>\n",
       "<style scoped>\n",
       "    .dataframe tbody tr th:only-of-type {\n",
       "        vertical-align: middle;\n",
       "    }\n",
       "\n",
       "    .dataframe tbody tr th {\n",
       "        vertical-align: top;\n",
       "    }\n",
       "\n",
       "    .dataframe thead th {\n",
       "        text-align: right;\n",
       "    }\n",
       "</style>\n",
       "<table border=\"1\" class=\"dataframe\">\n",
       "  <thead>\n",
       "    <tr style=\"text-align: right;\">\n",
       "      <th></th>\n",
       "      <th>course_code</th>\n",
       "      <th>code_prefix</th>\n",
       "      <th>department_desc</th>\n",
       "      <th>academic_year</th>\n",
       "      <th>link</th>\n",
       "      <th>term</th>\n",
       "      <th>podcast</th>\n",
       "    </tr>\n",
       "  </thead>\n",
       "  <tbody>\n",
       "    <tr>\n",
       "      <th>0</th>\n",
       "      <td>AIP 197</td>\n",
       "      <td>AIP</td>\n",
       "      <td>Academic Internship Program</td>\n",
       "      <td>09-10</td>\n",
       "      <td>http://registrar.ucsd.edu/catalog/09-10/course...</td>\n",
       "      <td>NaN</td>\n",
       "      <td>False</td>\n",
       "    </tr>\n",
       "    <tr>\n",
       "      <th>1</th>\n",
       "      <td>AIP 197PR</td>\n",
       "      <td>AIP</td>\n",
       "      <td>Academic Internship Program</td>\n",
       "      <td>09-10</td>\n",
       "      <td>http://registrar.ucsd.edu/catalog/09-10/course...</td>\n",
       "      <td>NaN</td>\n",
       "      <td>False</td>\n",
       "    </tr>\n",
       "    <tr>\n",
       "      <th>2</th>\n",
       "      <td>ANTH 1</td>\n",
       "      <td>ANTH</td>\n",
       "      <td>Anthropology</td>\n",
       "      <td>09-10</td>\n",
       "      <td>http://registrar.ucsd.edu/catalog/09-10/course...</td>\n",
       "      <td>NaN</td>\n",
       "      <td>False</td>\n",
       "    </tr>\n",
       "    <tr>\n",
       "      <th>3</th>\n",
       "      <td>ANTH 2</td>\n",
       "      <td>ANTH</td>\n",
       "      <td>Anthropology</td>\n",
       "      <td>09-10</td>\n",
       "      <td>http://registrar.ucsd.edu/catalog/09-10/course...</td>\n",
       "      <td>NaN</td>\n",
       "      <td>False</td>\n",
       "    </tr>\n",
       "    <tr>\n",
       "      <th>4</th>\n",
       "      <td>ANTH 3</td>\n",
       "      <td>ANTH</td>\n",
       "      <td>Anthropology</td>\n",
       "      <td>09-10</td>\n",
       "      <td>http://registrar.ucsd.edu/catalog/09-10/course...</td>\n",
       "      <td>NaN</td>\n",
       "      <td>False</td>\n",
       "    </tr>\n",
       "    <tr>\n",
       "      <th>...</th>\n",
       "      <td>...</td>\n",
       "      <td>...</td>\n",
       "      <td>...</td>\n",
       "      <td>...</td>\n",
       "      <td>...</td>\n",
       "      <td>...</td>\n",
       "      <td>...</td>\n",
       "    </tr>\n",
       "    <tr>\n",
       "      <th>58353</th>\n",
       "      <td>WARR 11A</td>\n",
       "      <td>WARR</td>\n",
       "      <td>Warren College</td>\n",
       "      <td>19-20</td>\n",
       "      <td>http://registrar.ucsd.edu/catalog/19-20/course...</td>\n",
       "      <td>NaN</td>\n",
       "      <td>False</td>\n",
       "    </tr>\n",
       "    <tr>\n",
       "      <th>58354</th>\n",
       "      <td>WARR 11B</td>\n",
       "      <td>WARR</td>\n",
       "      <td>Warren College</td>\n",
       "      <td>19-20</td>\n",
       "      <td>http://registrar.ucsd.edu/catalog/19-20/course...</td>\n",
       "      <td>NaN</td>\n",
       "      <td>False</td>\n",
       "    </tr>\n",
       "    <tr>\n",
       "      <th>58355</th>\n",
       "      <td>WCWP 100</td>\n",
       "      <td>WARR</td>\n",
       "      <td>Warren College</td>\n",
       "      <td>19-20</td>\n",
       "      <td>http://registrar.ucsd.edu/catalog/19-20/course...</td>\n",
       "      <td>NaN</td>\n",
       "      <td>False</td>\n",
       "    </tr>\n",
       "    <tr>\n",
       "      <th>58356</th>\n",
       "      <td>WARR 189</td>\n",
       "      <td>WARR</td>\n",
       "      <td>Warren College</td>\n",
       "      <td>19-20</td>\n",
       "      <td>http://registrar.ucsd.edu/catalog/19-20/course...</td>\n",
       "      <td>NaN</td>\n",
       "      <td>False</td>\n",
       "    </tr>\n",
       "    <tr>\n",
       "      <th>58357</th>\n",
       "      <td>WCWP 500</td>\n",
       "      <td>WARR</td>\n",
       "      <td>Warren College</td>\n",
       "      <td>19-20</td>\n",
       "      <td>http://registrar.ucsd.edu/catalog/19-20/course...</td>\n",
       "      <td>NaN</td>\n",
       "      <td>False</td>\n",
       "    </tr>\n",
       "  </tbody>\n",
       "</table>\n",
       "<p>58358 rows × 7 columns</p>\n",
       "</div>"
      ],
      "text/plain": [
       "      course_code code_prefix               department_desc academic_year  \\\n",
       "0         AIP 197         AIP  Academic Internship Program          09-10   \n",
       "1       AIP 197PR         AIP  Academic Internship Program          09-10   \n",
       "2          ANTH 1        ANTH                  Anthropology         09-10   \n",
       "3          ANTH 2        ANTH                  Anthropology         09-10   \n",
       "4          ANTH 3        ANTH                  Anthropology         09-10   \n",
       "...           ...         ...                           ...           ...   \n",
       "58353    WARR 11A        WARR                Warren College         19-20   \n",
       "58354    WARR 11B        WARR                Warren College         19-20   \n",
       "58355    WCWP 100        WARR                Warren College         19-20   \n",
       "58356    WARR 189        WARR                Warren College         19-20   \n",
       "58357    WCWP 500        WARR                Warren College         19-20   \n",
       "\n",
       "                                                    link term  podcast  \n",
       "0      http://registrar.ucsd.edu/catalog/09-10/course...  NaN    False  \n",
       "1      http://registrar.ucsd.edu/catalog/09-10/course...  NaN    False  \n",
       "2      http://registrar.ucsd.edu/catalog/09-10/course...  NaN    False  \n",
       "3      http://registrar.ucsd.edu/catalog/09-10/course...  NaN    False  \n",
       "4      http://registrar.ucsd.edu/catalog/09-10/course...  NaN    False  \n",
       "...                                                  ...  ...      ...  \n",
       "58353  http://registrar.ucsd.edu/catalog/19-20/course...  NaN    False  \n",
       "58354  http://registrar.ucsd.edu/catalog/19-20/course...  NaN    False  \n",
       "58355  http://registrar.ucsd.edu/catalog/19-20/course...  NaN    False  \n",
       "58356  http://registrar.ucsd.edu/catalog/19-20/course...  NaN    False  \n",
       "58357  http://registrar.ucsd.edu/catalog/19-20/course...  NaN    False  \n",
       "\n",
       "[58358 rows x 7 columns]"
      ]
     },
     "execution_count": 129,
     "metadata": {},
     "output_type": "execute_result"
    }
   ],
   "source": [
    "merged_df"
   ]
  },
  {
   "cell_type": "code",
   "execution_count": 132,
   "metadata": {},
   "outputs": [],
   "source": [
    "merged_df.to_json(\"initial_results.json\")"
   ]
  },
  {
   "cell_type": "code",
   "execution_count": 133,
   "metadata": {},
   "outputs": [],
   "source": [
    "merged_df.to_csv(\"initial_results.csv\", index=False)"
   ]
  },
  {
   "cell_type": "code",
   "execution_count": null,
   "metadata": {},
   "outputs": [],
   "source": []
  }
 ],
 "metadata": {
  "kernelspec": {
   "display_name": "Python 3",
   "language": "python",
   "name": "python3"
  },
  "language_info": {
   "codemirror_mode": {
    "name": "ipython",
    "version": 3
   },
   "file_extension": ".py",
   "mimetype": "text/x-python",
   "name": "python",
   "nbconvert_exporter": "python",
   "pygments_lexer": "ipython3",
   "version": "3.6.9"
  }
 },
 "nbformat": 4,
 "nbformat_minor": 2
}
