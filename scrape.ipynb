{
 "cells": [
  {
   "cell_type": "code",
   "execution_count": 2,
   "metadata": {},
   "outputs": [],
   "source": [
    "import requests\n",
    "import time\n",
    "import json\n",
    "import pandas as pd\n",
    "from bs4 import BeautifulSoup"
   ]
  },
  {
   "cell_type": "markdown",
   "metadata": {},
   "source": [
    "Scrape the previous podcasts archive"
   ]
  },
  {
   "cell_type": "code",
   "execution_count": 2,
   "metadata": {},
   "outputs": [],
   "source": [
    "url_past_podcasts = \"https://podcast.ucsd.edu/CourseList.aspx?show=past\""
   ]
  },
  {
   "cell_type": "code",
   "execution_count": 3,
   "metadata": {},
   "outputs": [],
   "source": [
    "req_obj = requests.get(url_past_podcasts)"
   ]
  },
  {
   "cell_type": "code",
   "execution_count": 4,
   "metadata": {},
   "outputs": [],
   "source": [
    "text_podcast_archive = BeautifulSoup(req_obj.text)"
   ]
  },
  {
   "cell_type": "code",
   "execution_count": 21,
   "metadata": {},
   "outputs": [],
   "source": [
    "a_eles = text_podcast_archive.find_all(\"a\", class_=\"PodcastLink\")"
   ]
  },
  {
   "cell_type": "code",
   "execution_count": 22,
   "metadata": {},
   "outputs": [
    {
     "data": {
      "text/plain": [
       "2149"
      ]
     },
     "execution_count": 22,
     "metadata": {},
     "output_type": "execute_result"
    }
   ],
   "source": [
    "len(a_eles)"
   ]
  },
  {
   "cell_type": "code",
   "execution_count": null,
   "metadata": {},
   "outputs": [],
   "source": [
    "# TODO remove duplicate classes "
   ]
  },
  {
   "cell_type": "code",
   "execution_count": 55,
   "metadata": {},
   "outputs": [],
   "source": [
    "podcast_archive = []"
   ]
  },
  {
   "cell_type": "code",
   "execution_count": 58,
   "metadata": {},
   "outputs": [],
   "source": [
    "for quarter in text_podcast_archive.find_all(\"div\", class_=\"quarter\"):\n",
    "  curr_quarter = quarter.find(\"h2\").text.strip()\n",
    "  for course in quarter.find_all(\"a\", class_=\"PodcastLink\"):\n",
    "    course_code = course.text.split(\"-\")[0].rstrip()\n",
    "    if len(course_code.split()) > 2:\n",
    "      split_codes = course_code.split()\n",
    "      [podcast_archive.append([(test_str[i] + \" \" + test_str[i-1]), curr_quarter]) for i in range(0, len(test_str), 2)]\n",
    "    else:\n",
    "      podcast_archive.append([course_code, curr_quarter])"
   ]
  },
  {
   "cell_type": "code",
   "execution_count": 59,
   "metadata": {},
   "outputs": [
    {
     "data": {
      "text/plain": [
       "2269"
      ]
     },
     "execution_count": 59,
     "metadata": {},
     "output_type": "execute_result"
    }
   ],
   "source": [
    "len(podcast_archive)"
   ]
  },
  {
   "cell_type": "code",
   "execution_count": null,
   "metadata": {},
   "outputs": [],
   "source": [
    "podcast_archive"
   ]
  },
  {
   "cell_type": "code",
   "execution_count": 76,
   "metadata": {},
   "outputs": [
    {
     "data": {
      "text/plain": [
       "'19-20'"
      ]
     },
     "execution_count": 76,
     "metadata": {},
     "output_type": "execute_result"
    }
   ],
   "source": [
    "podcast_archive[0][1][-2:] + \"-\" + str(int(podcast_archive[0][1][-2:])+1)"
   ]
  },
  {
   "cell_type": "code",
   "execution_count": 77,
   "metadata": {},
   "outputs": [],
   "source": [
    "# if winter or spring strip last two chars and conver 0X-(last two chars) string\n",
    "# else fall so convert to (last two chars)-0X\n",
    "for podcast in podcast_archive:\n",
    "  if \"Fall\" in podcast[1]:\n",
    "    academic_year = podcast[1][-2:] + \"-\" + str(int(podcast_archive[0][1][-2:])+1)\n",
    "  else:\n",
    "    academic_year = str(int(podcast_archive[0][1][-2:])+1) + \"-\" + podcast[1][-2:]\n",
    "  podcast.append(academic_year)"
   ]
  },
  {
   "cell_type": "code",
   "execution_count": 78,
   "metadata": {},
   "outputs": [
    {
     "data": {
      "text/plain": [
       "['BGGN 202', 'Fall 2019', '19-20']"
      ]
     },
     "execution_count": 78,
     "metadata": {},
     "output_type": "execute_result"
    }
   ],
   "source": [
    "podcast_archive[0]"
   ]
  },
  {
   "cell_type": "code",
   "execution_count": 79,
   "metadata": {},
   "outputs": [],
   "source": [
    "#with open('podcast_archive.json', 'w', encoding='utf-8') as f:\n",
    "# json.dump(podcast_archive, f, ensure_ascii=False, indent=4)"
   ]
  },
  {
   "cell_type": "markdown",
   "metadata": {},
   "source": [
    "## Scrape the course catalog"
   ]
  },
  {
   "cell_type": "code",
   "execution_count": 41,
   "metadata": {},
   "outputs": [],
   "source": [
    "catalog_front_url = \"http://registrar.ucsd.edu/catalog/{}-{}/front/courses.html\"\n",
    "catalog_base_url  = \"http://registrar.ucsd.edu/catalog/{}-{}/\""
   ]
  },
  {
   "cell_type": "code",
   "execution_count": 42,
   "metadata": {},
   "outputs": [
    {
     "name": "stdout",
     "output_type": "stream",
     "text": [
      "http://registrar.ucsd.edu/catalog/18-19/front/courses.html\n"
     ]
    }
   ],
   "source": [
    "print(catalog_front_url.format(18, 19))"
   ]
  },
  {
   "cell_type": "code",
   "execution_count": 97,
   "metadata": {},
   "outputs": [],
   "source": [
    "catalog_records = []"
   ]
  },
  {
   "cell_type": "code",
   "execution_count": 98,
   "metadata": {},
   "outputs": [],
   "source": [
    "for year in range(10,21):\n",
    "  academic_year = \"{}-{}\".format(f\"{year-1:02d}\", year)\n",
    "  front_req_obj    = requests.get(\"http://registrar.ucsd.edu/catalog/{}-{}/front/courses.html\".format(f\"{year-1:02d}\", year))\n",
    "  front_page       = BeautifulSoup(req_obj.text)\n",
    "  for course_page in cat_page.find_all(\"a\", text=\"courses\"):\n",
    "    href           = course_page[\"href\"]\n",
    "    code = href.split(\"/\")[-1].split(\".\")[0]\n",
    "    dept_page_url = \"http://registrar.ucsd.edu/catalog/{}-{}/\".format(f\"{year-1:02d}\", year) + href.replace(\"../\",\"\")\n",
    "    course_req_obj = requests.get(dept_page_url)\n",
    "    course_page    = BeautifulSoup(course_req_obj.text)\n",
    "    department_code = course_page.find_all(\"h1\")[-1].text\n",
    "    for course in course_page.find_all(\"p\", class_=\"course-name\"):\n",
    "      course_code    = course.text.split(\".\")[0]\n",
    "      course         = [course_code, code, department_code, academic_year, dept_page_url]\n",
    "      catalog_records.append(course)\n",
    "    time.sleep(0.5)"
   ]
  },
  {
   "cell_type": "code",
   "execution_count": 102,
   "metadata": {},
   "outputs": [
    {
     "data": {
      "text/plain": [
       "58328"
      ]
     },
     "execution_count": 102,
     "metadata": {},
     "output_type": "execute_result"
    }
   ],
   "source": [
    "len(catalog_records)"
   ]
  },
  {
   "cell_type": "code",
   "execution_count": 104,
   "metadata": {},
   "outputs": [],
   "source": [
    "#with open('catalog_records.json', 'w', encoding='utf-8') as f:\n",
    "#  json.dump(catalog_records, f, ensure_ascii=False, indent=4)"
   ]
  },
  {
   "cell_type": "code",
   "execution_count": 63,
   "metadata": {},
   "outputs": [
    {
     "data": {
      "text/plain": [
       "'AIP 97'"
      ]
     },
     "execution_count": 63,
     "metadata": {},
     "output_type": "execute_result"
    }
   ],
   "source": [
    "course_page.find_all(\"p\", class_=\"course-name\")[0].text.split(\".\")[0]"
   ]
  },
  {
   "cell_type": "code",
   "execution_count": 96,
   "metadata": {},
   "outputs": [
    {
     "data": {
      "text/plain": [
       "['197',\n",
       " 'AIP',\n",
       " 'Academic Internship Program ',\n",
       " '09-10',\n",
       " 'http://registrar.ucsd.edu/catalog/09-10/courses/AIP.html']"
      ]
     },
     "execution_count": 96,
     "metadata": {},
     "output_type": "execute_result"
    }
   ],
   "source": [
    "catalog_records[0]"
   ]
  },
  {
   "cell_type": "code",
   "execution_count": 3,
   "metadata": {},
   "outputs": [],
   "source": [
    "with open('catalog_records.json') as f:\n",
    "  catalog_records = json.load(f)"
   ]
  },
  {
   "cell_type": "code",
   "execution_count": 14,
   "metadata": {},
   "outputs": [
    {
     "data": {
      "text/plain": [
       "[<p class=\"course-name\">ANTH 1. Introduction to Culture (4)</p>,\n",
       " <p class=\"course-name\"><span class=\"strong\">ANTH 2. Human Origins (4)</span></p>,\n",
       " <p class=\"course-name\"><span class=\"strong\">ANTH 3. World Prehistory (4)</span></p>,\n",
       " <p class=\"course-name\">ANTH 23. Debating Multiculturalism: Race, Ethnicity, and Class in American Societies (4)</p>,\n",
       " <p class=\"course-name\"><span class=\"strong\">ANTH 42. The Study of Primates in Nature (4)</span></p>,\n",
       " <p class=\"course-name\"><span class=\"strong\"><a id=\"anth87\" name=\"anth87\"></a>A</span></p>,\n",
       " <p class=\"course-name\"><span class=\"strong\">A</span></p>,\n",
       " <p class=\"course-name\">A</p>,\n",
       " <p class=\"course-name\">ANTH 103. Sociocultural Anthropology (4)</p>,\n",
       " <p class=\"course-name\"><span class=\"strong\">ANTH 187B. Intern Seminar in Ethnography and Archaeology  (2)</span></p>,\n",
       " <p class=\"course-name\"><span class=\"strong\">ANTH 192. Senior Seminar in Anthropology (1)</span></p>,\n",
       " <p class=\"course-name\"><span class=\"strong\">ANTH 195. Instructional Apprenticeship in Anthropology (4)</span></p>,\n",
       " <p class=\"course-name\"><span class=\"strong\">ANTH 196A. Thesis Research (4)</span></p>,\n",
       " <p class=\"course-name\"><span class=\"strong\">ANTH 196B. Thesis Research (4)</span></p>,\n",
       " <p class=\"course-name\"><span class=\"strong\">ANTH 197. Field Studies (4)</span></p>,\n",
       " <p class=\"course-name\"><span class=\"strong\">ANTH 198. Directed Group Study (2–4)</span></p>,\n",
       " <p class=\"course-name\"><span class=\"strong\">ANTH 199. Independent Study (2–4)</span></p>,\n",
       " <p class=\"course-name\"><span class=\"strong\">ANAR 100. Special Topics in Anthropological Archaeology (4)</span></p>,\n",
       " <p class=\"course-name\"><span class=\"strong\">ANAR 103. Archaeology in the Holy Land (4)</span></p>,\n",
       " <p class=\"course-name\"><span class=\"strong\">ANAR 111. Foundations of Archaeology (4)</span></p>,\n",
       " <p class=\"course-name\">ANAR 112. Ancient Urbanism (4) </p>,\n",
       " <p class=\"course-name\"><span class=\"strong\">ANAR 118. Archaeology of the UCSD Campus (4)</span></p>,\n",
       " <p class=\"course-name\"><span class=\"strong\">ANAR 119S. Archaeological Field and Lab Class (8)</span></p>,\n",
       " <p class=\"course-name\"><span class=\"strong\">ANAR 121A. Digital Archaeology: GIS Foundations (4)</span></p>,\n",
       " <p class=\"course-name\"><span class=\"strong\">ANAR 140: The Foundation for Social Complexity in the Near East</span></p>,\n",
       " <p class=\"course-name\"><span class=\"strong\">ANAR 141. Prehistory of the Holy Land (4)</span></p>,\n",
       " <p class=\"course-name\"><span class=\"strong\">ANAR 142. The Rise and Fall of Ancient Israel (4)</span></p>,\n",
       " <p class=\"course-name\">ANAR 143. Archaeology, Anthropology, and the Bible (4)</p>,\n",
       " <p class=\"course-name\"><span class=\"strong\">ANAR 144. Pharaohs, Mummies, and Pyramids: Introduction to Egyptol</span></p>,\n",
       " <p class=\"course-name\"><span class=\"strong\">ANAR 153. The Mysterious Maya (4)</span></p>,\n",
       " <p class=\"course-name\"><span class=\"strong\">ANAR 154. The Aztecs and their Ancestors (4)</span></p>,\n",
       " <p class=\"course-name\"><span class=\"strong\">ANAR 155S. Study Abroad: Ancient Mesoamerica (4)</span></p>,\n",
       " <p class=\"course-name\"><span class=\"strong\">ANAR 156. The Archaeology of South America (4)</span></p>,\n",
       " <p class=\"course-name\"><span class=\"strong\">ANAR 156-XL. The Archaeology of South America (FLD) (1)</span></p>,\n",
       " <p class=\"course-name\"><span class=\"strong\">ANAR 157. Early Empires of the Andes: The Middle Horizon (4)</span></p>,\n",
       " <p class=\"course-name\">ANAR 157S. Early Empires of the Andes: The Middle Horizon (4) </p>,\n",
       " <p class=\"course-name\"><span class=\"strong\">ANAR 157-XL. The Andean Middle Horizon (FLD) (1)</span></p>,\n",
       " <p class=\"course-name\"><span class=\"strong\">ANAR 158. The Inca: Empire of the Andes (4)</span></p>,\n",
       " <p class=\"course-name\"><span class=\"strong\">ANAR 158-XL. The Inca: Empire of the Andes (FLD) (1)</span></p>,\n",
       " <p class=\"course-name\"><span class=\"strong\">ANAR 163. Evolution of Technology (4)</span></p>,\n",
       " <p class=\"course-name\"><span class=\"strong\">ANAR 170. Research Design in Anthropological Archaeology (4)</span></p>,\n",
       " <p class=\"course-name\">ANAR 181. The\n",
       " \t\t  Archaeology of Hunters-Gatherers (4)</p>,\n",
       " <p class=\"course-name\"><span class=\"strong\">ANAR 182. Origins of Agriculture and Sedentism (4)</span></p>,\n",
       " <p class=\"course-name\"><span class=\"strong\">ANAR 183. Chiefdoms, States, and the Emergence of Civilizations (4)</span></p>,\n",
       " <p class=\"course-name\"><span class=\"strong\">ANAR 184. The Political Economy of Early Empires (4)</span></p>,\n",
       " <p class=\"course-name\">ANAR 190. Middle\n",
       " \t\t\t\t  East Archaeological Field School (12)</p>,\n",
       " <p class=\"course-name\"><span class=\"strong\">ANAR 194S. Summer Middle East Archaeological Field School  (12)</span></p>,\n",
       " <p class=\"course-name\"><span class=\"strong\">ANBI\n",
       " \t\t\t\t    100. Special Topics in Biological Anthro</span></p>,\n",
       " <p class=\"course-name\">ANBI 103. Darwin’s Legacy (1 or 4) </p>,\n",
       " <p class=\"course-name\">ANBI 111. Advanced\n",
       " \t\t\t\t  Principles of Human Evolu</p>,\n",
       " <p class=\"course-name\"><span class=\"strong\">ANBI\n",
       " \t\t\t\t    116. The Evolution of Primate Reproducti</span></p>,\n",
       " <p class=\"course-name\"><span class=\"strong\">ANBI\n",
       " \t\t\t\t    132. Conservation and the Human Predicam</span></p>,\n",
       " <p class=\"course-name\"><span class=\"strong\">ANBI 140. The Evolution of the Human Brain (4</span></p>,\n",
       " <p class=\"course-name\"><span class=\"strong\">ANBI 141. The Evolution of Human Diet (4)</span></p>,\n",
       " <p class=\"course-name\"><span class=\"strong\">ANBI 142. The Primate Skeleton (4)</span></p>,\n",
       " <p class=\"course-name\"><span class=\"strong\">ANBI 143. The Human Skeleton (4)</span></p>,\n",
       " <p class=\"course-name\"><span class=\"strong\">ANBI 144. Human Anatomy (4)</span></p>,\n",
       " <p class=\"course-name\"><span class=\"strong\">ANBI 145. Bioarchaeology  (4)</span></p>,\n",
       " <p class=\"course-name\"><span class=\"strong\">ANBI 146. Stable Isotopes in Ecology (4)</span></p>,\n",
       " <p class=\"course-name\"><span class=\"strong\">ANBI 148. Primate Behavioral Ecology (4)</span></p>,\n",
       " <p class=\"course-name\"><span class=\"strong\">ANBI 159. Biological and Cultural Perspectives on Intelligence (4)</span></p>,\n",
       " <p class=\"course-name\"><span class=\"strong\">ANBI 173. Cognition in Animals and Humans (4)</span></p>,\n",
       " <p class=\"course-name\"><span class=\"strong\">ANBI 175. Modeling the Behavior of our Early Ancestors (4)</span></p>,\n",
       " <p class=\"course-name\"><span class=\"strong\">ANBI\n",
       " \t\t\t\t    187A. Intern Seminar in Physical Anthropology (2)</span></p>,\n",
       " <p class=\"course-name\"><span class=\"strong\">ANBI 187C. Intern Seminar in Ethology (2)</span></p>,\n",
       " <p class=\"course-name\"><span class=\"strong\">ANSC 100. Special Topics in Socio-Cultural Anthropology (4)</span></p>,\n",
       " <p class=\"course-name\"><span class=\"strong\">ANSC 104. Anthropology of Fantasy (4)</span></p>,\n",
       " <p class=\"course-name\">ANSC 108. Tourism and Global Culture (4) </p>,\n",
       " <p class=\"course-name\"><span class=\"strong\">ANSC\n",
       " \t\t\t\t    110. Societies and Cultures of the Caribbean (4)</span></p>,\n",
       " <p class=\"course-name\">ANSC 112. Linguistic Anthropology Workshop (2) </p>,\n",
       " <p class=\"course-name\">ANSC 116. Languages of the Americas: Mayan (4) </p>,\n",
       " <p class=\"course-name\">ANSC 117GS. Language and (Multi)Culture (4) </p>,\n",
       " <p class=\"course-name\"><span class=\"strong\">ANSC 118. Language and Culture (4)</span></p>,\n",
       " <p class=\"course-name\">ANSC 119. Gesture,\n",
       " \t\t\t\t  Communication, and the Body (4) </p>,\n",
       " <p class=\"course-name\">ANSC 119GS.\n",
       " \t\t\t\t  Gesture, Communication, and the Body (4) </p>,\n",
       " <p class=\"course-name\"><span class=\"strong\">ANSC 120. Anthropology of Religion (4)</span></p>,\n",
       " <p class=\"course-name\"><span class=\"strong\">ANSC 121. Psychological Anthropology (4)</span></p>,\n",
       " <p class=\"course-name\"><span class=\"strong\">ANSC 122. Language in Society (4)</span></p>,\n",
       " <p class=\"course-name\"><span class=\"strong\">ANSC 123. Political Anthropology (4)</span></p>,\n",
       " <p class=\"course-name\"><span class=\"strong\">ANSC 124. Cultural Anthropology (4)</span></p>,\n",
       " <p class=\"course-name\"><span class=\"strong\">ANSC 125. Gender, Sexuality, and Society (4)</span></p>,\n",
       " <p class=\"course-name\"><span class=\"strong\">ANSC 126. Childhood and Adolescence (4)</span></p>,\n",
       " <p class=\"course-name\"><span class=\"strong\">ANSC 127. Discourse, Interaction, and Social Life (4)</span></p>,\n",
       " <p class=\"course-name\"><span class=\"strong\">ANSC 128. Culture and Emotion (4)</span></p>,\n",
       " <p class=\"course-name\"><span class=\"strong\">ANSC 129. Meaning and Healing (4)</span></p>,\n",
       " <p class=\"course-name\"><span class=\"strong\">ANSC 130. Hinduism (4)</span></p>,\n",
       " <p class=\"course-name\"><span class=\"strong\">ANSC 131. Urban Cultures in Latin America (4)</span></p>,\n",
       " <p class=\"course-name\"><span class=\"strong\">ANSC 132. Modernity in Brazil (4)</span></p>,\n",
       " <p class=\"course-name\"><span class=\"strong\">ANSC\n",
       " \t\t    133. Peoples and Cultures of the Middle East (4)</span></p>,\n",
       " <p class=\"course-name\"><span class=\"strong\">ANSC 134. Global Islam (4)</span></p>,\n",
       " <p class=\"course-name\"><span class=\"strong\">ANSC 135. Indigenous Peoples of Latin America (4)</span></p>,\n",
       " <p class=\"course-name\"><span class=\"strong\">ANSC 136. Traditional Chinese Society (4)</span></p>,\n",
       " <p class=\"course-name\"><span class=\"strong\">ANSC 137. Chinese Popular Religion (4)</span></p>,\n",
       " <p class=\"course-name\"><span class=\"strong\">ANSC 139. Freud, Psychoanalysis, and Culture (4)</span></p>,\n",
       " <p class=\"course-name\">ANSC 140. Human Rights II: Contemporary Issues (4) </p>,\n",
       " <p class=\"course-name\">ANSC 142. Anthropology of Latin America (4)   </p>,\n",
       " <p class=\"course-name\"><span class=\"strong\">ANSC\n",
       " \t\t    160. Nature, Culture, and Environmentalism (4)</span></p>,\n",
       " <p class=\"course-name\"><span class=\"strong\">ANSC 161. Psychoanalysis and Religion (4)</span></p>,\n",
       " <p class=\"course-name\"><span class=\"strong\">ANSC 162. Language, Identity, and Community (4)</span></p>,\n",
       " <p class=\"course-name\"><span class=\"strong\">ANSC\n",
       " \t\t\t\t    163. Culture and Communication in Education (4)</span></p>,\n",
       " <p class=\"course-name\"><span class=\"strong\">ANSC 164. The Anthropology of Medicine (4)</span></p>,\n",
       " <p class=\"course-name\"><span class=\"strong\">ANSC 165. Contemporary South Asia (4)</span></p>,\n",
       " <p class=\"course-name\"><span class=\"strong\">ANSC 167. Rituals and Celebrations (4)</span></p>,\n",
       " <p class=\"course-name\">ANSC 169. Culture and Environment: Research Seminar and Practicum (4)</p>,\n",
       " <p class=\"course-name\"><span class=\"strong\">ANSC 172. Life-History Seminar and Practicum (4)</span></p>,\n",
       " <p class=\"course-name\"><span class=\"strong\">ANSC 189. The Anthropology of the End of the World: Millenarian Movements Across Cultures</span></p>,\n",
       " <p class=\"course-name\"><span class=\"strong\">ANTH 201. Special Topics in Anthropologi</span></p>,\n",
       " <p class=\"course-name\"><span class=\"strong\">ANTH 202. Olmec and Maya Archaeology (4)</span></p>,\n",
       " <p class=\"course-name\">ANTH 203. Four-Campus\n",
       " \t\t  Video Conference Seminar (1)</p>,\n",
       " <p class=\"course-name\"><span class=\"strong\">ANTH 205. Third World Cities: Comparative Urbanization and Social Theory (4)</span></p>,\n",
       " <p class=\"course-name\"><span class=\"strong\">ANTH 210. Religion and Globalization (4)</span></p>,\n",
       " <p class=\"course-name\"><span class=\"strong\">ANTH 211. Psychoanalysis and Religion (4) </span></p>,\n",
       " <p class=\"course-name\"><span class=\"strong\">ANTH 212. Advanced Topics in Biological Anthropology (4)</span></p>,\n",
       " <p class=\"course-name\"><span class=\"strong\">ANTH 215. Advanced Topics in Sociocultural Anthropology (4)</span></p>,\n",
       " <p class=\"course-name\"><span class=\"strong\">ANTH 216. Global Pentecostalism (4)</span></p>,\n",
       " <p class=\"course-name\"><span class=\"strong\">ANTH 219. Seminar in Political Anthropology  (4)</span></p>,\n",
       " <p class=\"course-name\"><span class=\"strong\">ANTH 220. The Human Body in Discourse and Experience (4)</span></p>,\n",
       " <p class=\"course-name\"><span class=\"strong\">ANTH 221. Phenomenology of Perception (4)</span></p>,\n",
       " <p class=\"course-name\"><span class=\"strong\">ANTH 223. Anthropological Interviewing (4)</span></p>,\n",
       " <p class=\"course-name\"><span class=\"strong\">ANTH 224. Advanced Topics in the Anthropology of Gender (4)</span></p>,\n",
       " <p class=\"course-name\"><span class=\"strong\">ANTH 225. Andean Prehistory: Rise of Complexity (4)</span></p>,\n",
       " <p class=\"course-name\"><span class=\"strong\">ANTH 226. Ethnography of Christianity (4)</span></p>,\n",
       " <p class=\"course-name\"><span class=\"strong\">ANTH 228. Inca Empire: Society and Statecraft (4)</span></p>,\n",
       " <p class=\"course-name\">ANTH 229. Religion and Healing (4) </p>,\n",
       " <p class=\"course-name\"><span class=\"strong\">ANTH 230. Department Colloquium (1)</span></p>,\n",
       " <p class=\"course-name\"><span class=\"strong\">ANTH 234. Dynamics of Culture  (4)</span></p>,\n",
       " <p class=\"course-name\"><span class=\"strong\">ANTH 238. Citizenship and the Nation State (4)</span></p>,\n",
       " <p class=\"course-name\">ANTH 239. Contemporary Religious Movements (4) </p>,\n",
       " <p class=\"course-name\"><span class=\"strong\">ANTH 240. Culture and Politics in Southeast Asia (4)</span></p>,\n",
       " <p class=\"course-name\">ANTH 241. Religion and Morality in South Asia (4) </p>,\n",
       " <p class=\"course-name\">ANTH 242. Anthropology of Latin America (4) </p>,\n",
       " <p class=\"course-name\"><span class=\"strong\">ANTH 244. Andean Prehistory: Origins of Chiefdoms and States (4)</span></p>,\n",
       " <p class=\"course-name\"><span class=\"strong\">ANTH 245. The Middle Horizon (4)</span></p>,\n",
       " <p class=\"course-name\"><span class=\"strong\">ANTH 246. The Inca and the Late Horizon (4)</span></p>,\n",
       " <p class=\"course-name\"><span class=\"strong\">ANTH 247. Multimodal Interaction (4)</span></p>,\n",
       " <p class=\"course-name\"><span class=\"strong\">ANTH 251. Ethnographies of Modern Society (4)</span></p>,\n",
       " <p class=\"course-name\"><span class=\"strong\">ANTH 252. Interrogating Neoliberalism (4)</span></p>,\n",
       " <p class=\"course-name\"><span class=\"strong\">ANTH 257. Mind, Self, and Identity (4)</span></p>,\n",
       " <p class=\"course-name\"><span class=\"strong\">ANTH 258. Analytical Methods in Archaeology (4)</span></p>,\n",
       " <p class=\"course-name\"><span class=\"strong\">ANTH 259. Gender and Mental Health (4)</span></p>,\n",
       " <p class=\"course-name\"><span class=\"strong\">ANTH 260. Psychodynamic Anthropology (4)</span></p>,\n",
       " <p class=\"course-name\"><span class=\"strong\">ANTH\n",
       " \t\t    261. Audio and Video Methods in Ethnography (4)</span></p>,\n",
       " <p class=\"course-name\"><span class=\"strong\">ANTH 262. New Directions in Culture, Politics, and History (4)</span></p>,\n",
       " <p class=\"course-name\"><span class=\"strong\">ANTH 263. Anthropology of Language and Discourse (4)</span></p>,\n",
       " <p class=\"course-name\"><span class=\"strong\">ANTH 265. Cultures of Late Capitalism (4)</span></p>,\n",
       " <p class=\"course-name\"><span class=\"strong\">ANTH 267. The Anthropology of Ethics (4)</span></p>,\n",
       " <p class=\"course-name\"><span class=\"strong\">ANTH 268. Anthropology of Cities  (4)</span></p>,\n",
       " <p class=\"course-name\"><span class=\"strong\">ANTH 269. Current Readings on Latin America (4)</span></p>,\n",
       " <p class=\"course-name\"><span class=\"strong\">ANTH 274. Debates in Anthropology (4)</span></p>,\n",
       " <p class=\"course-name\"><span class=\"strong\">ANTH\n",
       " \t\t\t\t    279. Special Topics in Language and Society (4)</span></p>,\n",
       " <p class=\"course-name\"><span class=\"strong\">ANTH\n",
       " \t\t\t\t    280A. Core Seminar in Social Anthropology (4)</span></p>,\n",
       " <p class=\"course-name\"><span class=\"strong\">ANTH\n",
       " \t\t\t\t    280B. Core Seminar in Cultural Anthropology (4)</span></p>,\n",
       " <p class=\"course-name\"><span class=\"strong\">ANTH 280C. Core Seminar in Psychological Anthropology (4)</span></p>,\n",
       " <p class=\"course-name\"><span class=\"strong\">ANTH 280D. Core Seminar in Anthropological Archaeology (4)</span></p>,\n",
       " <p class=\"course-name\"><span class=\"strong\">ANTH 280E. Core Seminar in Biological Anthropology (4)</span></p>,\n",
       " <p class=\"course-name\"><span class=\"strong\">ANTH 281A. Introductory Seminar (1)</span></p>,\n",
       " <p class=\"course-name\"><span class=\"strong\">ANTH 281B. Introductory Seminar (1)</span></p>,\n",
       " <p class=\"course-name\"><span class=\"strong\">ANTH 283A. Fieldwork Seminar (4)</span></p>,\n",
       " <p class=\"course-name\"><span class=\"strong\">ANTH\n",
       " \t\t\t\t    286. Topics in Anthropological Archaeology (4)</span></p>,\n",
       " <p class=\"course-name\"><span class=\"strong\">ANTH 288. Archaeology Practicum (12)</span></p>,\n",
       " <p class=\"course-name\"><span class=\"strong\">ANTH 290. Primate Social Behavior/Neural Correlates (4)</span></p>,\n",
       " <p class=\"course-name\"><span class=\"strong\">ANTH 291. Archaeology of Highland Mexico (4)</span></p>,\n",
       " <p class=\"course-name\"><span class=\"strong\">ANTH 292. Social Evolution/Iron Age Levant (4)</span></p>,\n",
       " <p class=\"course-name\"><span class=\"strong\">ANTH 293. Primate Socioecology (4)</span></p>,\n",
       " <p class=\"course-name\"><span class=\"strong\">ANTH 295. Master’s Thesis Preparation (1–12)</span></p>,\n",
       " <p class=\"course-name\"><span class=\"strong\">ANTH 296. Dissertation Fieldwork Proposal Preparation (4)</span></p>,\n",
       " <p class=\"course-name\"><span class=\"strong\">ANTH 297. Research Practicum (1–4)</span></p>,\n",
       " <p class=\"course-name\"><span class=\"strong\">ANTH 298. Independent Study (1–4)</span></p>,\n",
       " <p class=\"course-name\"><span class=\"strong\">ANTH 299. Dissertation Research (1–12)</span></p>,\n",
       " <p class=\"course-name\"><span class=\"strong\">ANTH 500.</span></p>,\n",
       " <p class=\"course-name\"><span class=\"strong\">ANTH 501. T.A.ing in Sixth College/C.A.T. (4 or 6)</span></p>]"
      ]
     },
     "execution_count": 14,
     "metadata": {},
     "output_type": "execute_result"
    }
   ],
   "source": [
    "test_page = BeautifulSoup(requests.get(\"http://registrar.ucsd.edu/catalog/09-10/courses/ANTH.html\").content)\n",
    "\n",
    "test_page.find_all(class_=\"course-name\")"
   ]
  },
  {
   "cell_type": "code",
   "execution_count": 7,
   "metadata": {},
   "outputs": [
    {
     "data": {
      "text/plain": [
       "[['ANTH 23',\n",
       "  'ANTH',\n",
       "  'Anthropology',\n",
       "  '09-10',\n",
       "  'http://registrar.ucsd.edu/catalog/09-10/courses/ANTH.html'],\n",
       " ['ANTH 42',\n",
       "  'ANTH',\n",
       "  'Anthropology',\n",
       "  '09-10',\n",
       "  'http://registrar.ucsd.edu/catalog/09-10/courses/ANTH.html'],\n",
       " ['A',\n",
       "  'ANTH',\n",
       "  'Anthropology',\n",
       "  '09-10',\n",
       "  'http://registrar.ucsd.edu/catalog/09-10/courses/ANTH.html'],\n",
       " ['A',\n",
       "  'ANTH',\n",
       "  'Anthropology',\n",
       "  '09-10',\n",
       "  'http://registrar.ucsd.edu/catalog/09-10/courses/ANTH.html'],\n",
       " ['A',\n",
       "  'ANTH',\n",
       "  'Anthropology',\n",
       "  '09-10',\n",
       "  'http://registrar.ucsd.edu/catalog/09-10/courses/ANTH.html']]"
      ]
     },
     "execution_count": 7,
     "metadata": {},
     "output_type": "execute_result"
    }
   ],
   "source": [
    "catalog_records[5:10]"
   ]
  },
  {
   "cell_type": "code",
   "execution_count": 109,
   "metadata": {},
   "outputs": [],
   "source": [
    "for course in catalog_records:\n",
    "  if course[0][:2].isnumeric():\n",
    "    course[0] = course[1] + \" \" + course[0]"
   ]
  },
  {
   "cell_type": "markdown",
   "metadata": {},
   "source": [
    "## Merge Datasets"
   ]
  },
  {
   "cell_type": "code",
   "execution_count": 120,
   "metadata": {},
   "outputs": [],
   "source": [
    "catalog_df=pd.DataFrame(catalog_records, columns=[\"course_code\", \"code_prefix\", \"department_desc\", \"academic_year\", \"link\"])"
   ]
  },
  {
   "cell_type": "code",
   "execution_count": 121,
   "metadata": {},
   "outputs": [],
   "source": [
    "podcast_archive_df=pd.DataFrame(podcast_archive, columns=[\"course_code\", \"term\", \"academic_year\"])"
   ]
  },
  {
   "cell_type": "code",
   "execution_count": 122,
   "metadata": {},
   "outputs": [],
   "source": [
    "podcast_archive_df[\"podcast\"]=True"
   ]
  },
  {
   "cell_type": "code",
   "execution_count": null,
   "metadata": {},
   "outputs": [],
   "source": []
  },
  {
   "cell_type": "code",
   "execution_count": 126,
   "metadata": {},
   "outputs": [],
   "source": [
    "merged_df = catalog_df.merge(podcast_archive_df, on=[\"course_code\", \"academic_year\"], how=\"left\")"
   ]
  },
  {
   "cell_type": "code",
   "execution_count": 128,
   "metadata": {},
   "outputs": [],
   "source": [
    "merged_df[\"podcast\"] = merged_df[\"podcast\"].fillna(False)"
   ]
  },
  {
   "cell_type": "code",
   "execution_count": 129,
   "metadata": {},
   "outputs": [
    {
     "data": {
      "text/html": [
       "<div>\n",
       "<style scoped>\n",
       "    .dataframe tbody tr th:only-of-type {\n",
       "        vertical-align: middle;\n",
       "    }\n",
       "\n",
       "    .dataframe tbody tr th {\n",
       "        vertical-align: top;\n",
       "    }\n",
       "\n",
       "    .dataframe thead th {\n",
       "        text-align: right;\n",
       "    }\n",
       "</style>\n",
       "<table border=\"1\" class=\"dataframe\">\n",
       "  <thead>\n",
       "    <tr style=\"text-align: right;\">\n",
       "      <th></th>\n",
       "      <th>course_code</th>\n",
       "      <th>code_prefix</th>\n",
       "      <th>department_desc</th>\n",
       "      <th>academic_year</th>\n",
       "      <th>link</th>\n",
       "      <th>term</th>\n",
       "      <th>podcast</th>\n",
       "    </tr>\n",
       "  </thead>\n",
       "  <tbody>\n",
       "    <tr>\n",
       "      <th>0</th>\n",
       "      <td>AIP 197</td>\n",
       "      <td>AIP</td>\n",
       "      <td>Academic Internship Program</td>\n",
       "      <td>09-10</td>\n",
       "      <td>http://registrar.ucsd.edu/catalog/09-10/course...</td>\n",
       "      <td>NaN</td>\n",
       "      <td>False</td>\n",
       "    </tr>\n",
       "    <tr>\n",
       "      <th>1</th>\n",
       "      <td>AIP 197PR</td>\n",
       "      <td>AIP</td>\n",
       "      <td>Academic Internship Program</td>\n",
       "      <td>09-10</td>\n",
       "      <td>http://registrar.ucsd.edu/catalog/09-10/course...</td>\n",
       "      <td>NaN</td>\n",
       "      <td>False</td>\n",
       "    </tr>\n",
       "    <tr>\n",
       "      <th>2</th>\n",
       "      <td>ANTH 1</td>\n",
       "      <td>ANTH</td>\n",
       "      <td>Anthropology</td>\n",
       "      <td>09-10</td>\n",
       "      <td>http://registrar.ucsd.edu/catalog/09-10/course...</td>\n",
       "      <td>NaN</td>\n",
       "      <td>False</td>\n",
       "    </tr>\n",
       "    <tr>\n",
       "      <th>3</th>\n",
       "      <td>ANTH 2</td>\n",
       "      <td>ANTH</td>\n",
       "      <td>Anthropology</td>\n",
       "      <td>09-10</td>\n",
       "      <td>http://registrar.ucsd.edu/catalog/09-10/course...</td>\n",
       "      <td>NaN</td>\n",
       "      <td>False</td>\n",
       "    </tr>\n",
       "    <tr>\n",
       "      <th>4</th>\n",
       "      <td>ANTH 3</td>\n",
       "      <td>ANTH</td>\n",
       "      <td>Anthropology</td>\n",
       "      <td>09-10</td>\n",
       "      <td>http://registrar.ucsd.edu/catalog/09-10/course...</td>\n",
       "      <td>NaN</td>\n",
       "      <td>False</td>\n",
       "    </tr>\n",
       "    <tr>\n",
       "      <th>...</th>\n",
       "      <td>...</td>\n",
       "      <td>...</td>\n",
       "      <td>...</td>\n",
       "      <td>...</td>\n",
       "      <td>...</td>\n",
       "      <td>...</td>\n",
       "      <td>...</td>\n",
       "    </tr>\n",
       "    <tr>\n",
       "      <th>58353</th>\n",
       "      <td>WARR 11A</td>\n",
       "      <td>WARR</td>\n",
       "      <td>Warren College</td>\n",
       "      <td>19-20</td>\n",
       "      <td>http://registrar.ucsd.edu/catalog/19-20/course...</td>\n",
       "      <td>NaN</td>\n",
       "      <td>False</td>\n",
       "    </tr>\n",
       "    <tr>\n",
       "      <th>58354</th>\n",
       "      <td>WARR 11B</td>\n",
       "      <td>WARR</td>\n",
       "      <td>Warren College</td>\n",
       "      <td>19-20</td>\n",
       "      <td>http://registrar.ucsd.edu/catalog/19-20/course...</td>\n",
       "      <td>NaN</td>\n",
       "      <td>False</td>\n",
       "    </tr>\n",
       "    <tr>\n",
       "      <th>58355</th>\n",
       "      <td>WCWP 100</td>\n",
       "      <td>WARR</td>\n",
       "      <td>Warren College</td>\n",
       "      <td>19-20</td>\n",
       "      <td>http://registrar.ucsd.edu/catalog/19-20/course...</td>\n",
       "      <td>NaN</td>\n",
       "      <td>False</td>\n",
       "    </tr>\n",
       "    <tr>\n",
       "      <th>58356</th>\n",
       "      <td>WARR 189</td>\n",
       "      <td>WARR</td>\n",
       "      <td>Warren College</td>\n",
       "      <td>19-20</td>\n",
       "      <td>http://registrar.ucsd.edu/catalog/19-20/course...</td>\n",
       "      <td>NaN</td>\n",
       "      <td>False</td>\n",
       "    </tr>\n",
       "    <tr>\n",
       "      <th>58357</th>\n",
       "      <td>WCWP 500</td>\n",
       "      <td>WARR</td>\n",
       "      <td>Warren College</td>\n",
       "      <td>19-20</td>\n",
       "      <td>http://registrar.ucsd.edu/catalog/19-20/course...</td>\n",
       "      <td>NaN</td>\n",
       "      <td>False</td>\n",
       "    </tr>\n",
       "  </tbody>\n",
       "</table>\n",
       "<p>58358 rows × 7 columns</p>\n",
       "</div>"
      ],
      "text/plain": [
       "      course_code code_prefix               department_desc academic_year  \\\n",
       "0         AIP 197         AIP  Academic Internship Program          09-10   \n",
       "1       AIP 197PR         AIP  Academic Internship Program          09-10   \n",
       "2          ANTH 1        ANTH                  Anthropology         09-10   \n",
       "3          ANTH 2        ANTH                  Anthropology         09-10   \n",
       "4          ANTH 3        ANTH                  Anthropology         09-10   \n",
       "...           ...         ...                           ...           ...   \n",
       "58353    WARR 11A        WARR                Warren College         19-20   \n",
       "58354    WARR 11B        WARR                Warren College         19-20   \n",
       "58355    WCWP 100        WARR                Warren College         19-20   \n",
       "58356    WARR 189        WARR                Warren College         19-20   \n",
       "58357    WCWP 500        WARR                Warren College         19-20   \n",
       "\n",
       "                                                    link term  podcast  \n",
       "0      http://registrar.ucsd.edu/catalog/09-10/course...  NaN    False  \n",
       "1      http://registrar.ucsd.edu/catalog/09-10/course...  NaN    False  \n",
       "2      http://registrar.ucsd.edu/catalog/09-10/course...  NaN    False  \n",
       "3      http://registrar.ucsd.edu/catalog/09-10/course...  NaN    False  \n",
       "4      http://registrar.ucsd.edu/catalog/09-10/course...  NaN    False  \n",
       "...                                                  ...  ...      ...  \n",
       "58353  http://registrar.ucsd.edu/catalog/19-20/course...  NaN    False  \n",
       "58354  http://registrar.ucsd.edu/catalog/19-20/course...  NaN    False  \n",
       "58355  http://registrar.ucsd.edu/catalog/19-20/course...  NaN    False  \n",
       "58356  http://registrar.ucsd.edu/catalog/19-20/course...  NaN    False  \n",
       "58357  http://registrar.ucsd.edu/catalog/19-20/course...  NaN    False  \n",
       "\n",
       "[58358 rows x 7 columns]"
      ]
     },
     "execution_count": 129,
     "metadata": {},
     "output_type": "execute_result"
    }
   ],
   "source": [
    "merged_df"
   ]
  },
  {
   "cell_type": "code",
   "execution_count": 132,
   "metadata": {},
   "outputs": [],
   "source": [
    "merged_df.to_json(\"initial_results.json\")"
   ]
  },
  {
   "cell_type": "code",
   "execution_count": 133,
   "metadata": {},
   "outputs": [],
   "source": [
    "merged_df.to_csv(\"initial_results.csv\", index=False)"
   ]
  },
  {
   "cell_type": "code",
   "execution_count": null,
   "metadata": {},
   "outputs": [],
   "source": []
  }
 ],
 "metadata": {
  "kernelspec": {
   "display_name": "Python 3",
   "language": "python",
   "name": "python3"
  },
  "language_info": {
   "codemirror_mode": {
    "name": "ipython",
    "version": 3
   },
   "file_extension": ".py",
   "mimetype": "text/x-python",
   "name": "python",
   "nbconvert_exporter": "python",
   "pygments_lexer": "ipython3",
   "version": "3.6.9"
  }
 },
 "nbformat": 4,
 "nbformat_minor": 2
}
